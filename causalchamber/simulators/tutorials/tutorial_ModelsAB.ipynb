{
 "cells": [
  {
   "cell_type": "markdown",
   "id": "9468933f-532c-4b8b-bdc8-423bdcae400c",
   "metadata": {
    "tags": []
   },
   "source": [
    "# **Tutorial**: Using the simulators `wt.ModelA1`, `wt.ModelA2` and `wt.ModelB1`\n",
    "\n",
    "[<<< Back to the simulator index](https://github.com/juangamella/causal-chamber-package/tree/main/causalchamber/simulators)\n",
    "\n",
    "Other links:\n",
    "- [Derivation of the simulators](https://arxiv.org/pdf/2404.11341#page=28&zoom=100,57,332)\n",
    "- [Simulators source code](https://github.com/juangamella/causal-chamber-package/blob/main/causalchamber/simulators/wt/main.py)\n",
    "\n",
    "If you use the simulators in your work, please consider citing:\n",
    "\n",
    "```\n",
    "﻿@article{gamella2025chamber,\n",
    "  author={Gamella, Juan L. and Peters, Jonas and B{\\\"u}hlmann, Peter},\n",
    "  title={Causal chambers as a real-world physical testbed for {AI} methodology},\n",
    "  journal={Nature Machine Intelligence},\n",
    "  doi={10.1038/s42256-024-00964-x},\n",
    "  year={2025},\n",
    "}\n",
    "```"
   ]
  },
  {
   "cell_type": "code",
   "execution_count": 1,
   "id": "fa6cec5f-4eb1-49c4-927e-065b48c13d14",
   "metadata": {
    "tags": []
   },
   "outputs": [],
   "source": [
    "import sys\n",
    "sys.path = ['../../..'] + sys.path\n",
    "\n",
    "# %load_ext autoreload\n",
    "# %autoreload 2"
   ]
  },
  {
   "cell_type": "markdown",
   "id": "9db1df93-5a9c-4ce0-ae2f-4efe4c1c4235",
   "metadata": {},
   "source": [
    "## Dependencies"
   ]
  },
  {
   "cell_type": "markdown",
   "id": "616fceec-7eba-4728-b44d-891e2695599a",
   "metadata": {},
   "source": [
    "Besides the `causalchamber` package, the notebook also uses `matplotlib`, `numpy` and `pandas` (specified in `tutorials/requirements.txt`)."
   ]
  },
  {
   "cell_type": "code",
   "execution_count": 2,
   "id": "b89be10e-cfce-4227-8b8c-a8291c403e32",
   "metadata": {
    "tags": []
   },
   "outputs": [
    {
     "name": "stdout",
     "output_type": "stream",
     "text": [
      "\n",
      "Fetching list of available datasets from https://causalchamber.s3.eu-central-1.amazonaws.com/downloadables/directory.yaml ... done.\n",
      "If you use our datasets or simulators for your work please consider citing:\n",
      "\n",
      "﻿@article{gamella2025chamber,\n",
      "  author={Gamella, Juan L. and Peters, Jonas and B{\"u}hlmann, Peter},\n",
      "  title={Causal chambers as a real-world physical testbed for {AI} methodology},\n",
      "  journal={Nature Machine Intelligence},\n",
      "  doi={10.1038/s42256-024-00964-x},\n",
      "  year={2025},\n",
      "}\n",
      "\n"
     ]
    }
   ],
   "source": [
    "import causalchamber\n",
    "import matplotlib.pyplot as plt\n",
    "import numpy as np\n",
    "import pandas as pd\n",
    "\n",
    "from matplotlib import gridspec"
   ]
  },
  {
   "cell_type": "markdown",
   "id": "069ba667-1ab3-455a-bc36-fe49081397d6",
   "metadata": {
    "tags": []
   },
   "source": [
    "## Initializing the simulators\n",
    "\n",
    "We take the simulator parameters from calibration experiments and the technical specifications of the fans. See [this notebook](https://github.com/juangamella/causal-chamber-paper/blob/main/case_studies/mechanistic_models.ipynb) for the complete process."
   ]
  },
  {
   "cell_type": "code",
   "execution_count": 3,
   "id": "5a41571e-77de-41d8-9880-5689361a1d7b",
   "metadata": {
    "tags": []
   },
   "outputs": [],
   "source": [
    "# For models A1 and B1\n",
    "C_MIN = 0.166\n",
    "C_MAX = 0.27\n",
    "L_MIN = 0.1\n",
    "OMEGA_MAX = 3000\n",
    "\n",
    "# For model A2\n",
    "I = 3.481e-05\n",
    "T = 0.05\n",
    "K = 5.268701549401565e-08 # This is called \"C\" in the notebook linked above\n",
    "\n",
    "#   Torque function (also a parameter for model A2)\n",
    "def tau(load, C_min=C_MIN, C_max=C_MAX, L_min=L_MIN, T=T):\n",
    "    load = np.atleast_1d(load)\n",
    "    torques = T * (C_min + np.maximum(L_min, load) ** 3 * (C_max - C_min) - C_min)\n",
    "    torques[load == 0] = 0\n",
    "    return torques if len(load) > 1 else torques[0]"
   ]
  },
  {
   "cell_type": "markdown",
   "id": "9f2d0dc7-db4d-4a45-920e-4c00abc899f2",
   "metadata": {
    "tags": []
   },
   "source": [
    "Now we initialize the simulators with the above parameters:"
   ]
  },
  {
   "cell_type": "code",
   "execution_count": 4,
   "id": "f33a86be-9cd1-4b2f-befd-1afdccb007db",
   "metadata": {
    "tags": []
   },
   "outputs": [],
   "source": [
    "import causalchamber.simulators.wt as wt\n",
    "\n",
    "sim_a1 = wt.ModelA1(L_min = L_MIN,\n",
    "                    omega_max = OMEGA_MAX)\n",
    "\n",
    "sim_a2 = wt.ModelA2(I = I,\n",
    "                    tau = tau,\n",
    "                    K = K,\n",
    "                    omega_0 = L_MIN * OMEGA_MAX) # We assume the initial velocity is the idle speed of the fans\n",
    "\n",
    "sim_b1 = wt.ModelB1(C_min=C_MIN,\n",
    "                    C_max=C_MAX,\n",
    "                    L_min=L_MIN)"
   ]
  },
  {
   "cell_type": "markdown",
   "id": "366121b6-129b-4fc3-9df2-26c136978b2f",
   "metadata": {},
   "source": [
    "## Running the simulators"
   ]
  },
  {
   "cell_type": "markdown",
   "id": "8ddc16da-768b-45c5-a5cd-2084b403fc66",
   "metadata": {},
   "source": [
    "To simulate, call the function `.simulate_from_inputs` with a dataframe containing the simulator inputs as columns. There can be additional columns, which the simulator will ignore.\n",
    "\n",
    "The names of the necessary columns can be obtained by calling:"
   ]
  },
  {
   "cell_type": "code",
   "execution_count": 5,
   "id": "1145c0be-4adc-41a6-a7d3-9be8e64bbe12",
   "metadata": {
    "tags": []
   },
   "outputs": [
    {
     "data": {
      "text/plain": [
       "['load']"
      ]
     },
     "execution_count": 5,
     "metadata": {},
     "output_type": "execute_result"
    }
   ],
   "source": [
    "sim_a1.inputs_names"
   ]
  },
  {
   "cell_type": "code",
   "execution_count": 6,
   "id": "793c8940-bed8-406c-a83c-5ce41130840c",
   "metadata": {
    "tags": []
   },
   "outputs": [
    {
     "data": {
      "text/plain": [
       "['load', 'timestamp']"
      ]
     },
     "execution_count": 6,
     "metadata": {},
     "output_type": "execute_result"
    }
   ],
   "source": [
    "sim_a2.inputs_names"
   ]
  },
  {
   "cell_type": "code",
   "execution_count": 7,
   "id": "403d07ce-dadd-4ad0-89e5-cafd3cd427fc",
   "metadata": {
    "tags": []
   },
   "outputs": [
    {
     "data": {
      "text/plain": [
       "['load']"
      ]
     },
     "execution_count": 7,
     "metadata": {},
     "output_type": "execute_result"
    }
   ],
   "source": [
    "sim_b1.inputs_names"
   ]
  },
  {
   "cell_type": "markdown",
   "id": "857aa81e-4599-4b9a-a3c7-c2b5cc9b7239",
   "metadata": {
    "tags": []
   },
   "source": [
    "### Example 1: Random inputs\n",
    "\n",
    "#### Model A1 and B1\n",
    "\n",
    "We can use models A1 and B1 to simulate the steady-state fan speed and current (respectively). As inputs, let us take random fan loads from the valid range [0,1]."
   ]
  },
  {
   "cell_type": "code",
   "execution_count": 8,
   "id": "c5ee7fda-b2e2-459f-be01-6f69d14f2291",
   "metadata": {
    "tags": []
   },
   "outputs": [],
   "source": [
    "rng = np.random.default_rng(7); N = 100\n",
    "inputs = pd.DataFrame({'load': rng.uniform(0,1,size=N)})\n",
    "\n",
    "fan_speed = sim_a1.simulate_from_inputs(inputs)\n",
    "fan_current = sim_b1.simulate_from_inputs(inputs)"
   ]
  },
  {
   "cell_type": "code",
   "execution_count": 9,
   "id": "0b77bc4e-6897-4fa6-9fab-873737f7c6cd",
   "metadata": {},
   "outputs": [
    {
     "data": {
      "text/plain": [
       "Text(0.5, 0, 'Fan load')"
      ]
     },
     "execution_count": 9,
     "metadata": {},
     "output_type": "execute_result"
    },
    {
     "data": {
      "image/png": "[encoded data removed]",
      "text/plain": [
       "<Figure size 576x288 with 2 Axes>"
      ]
     },
     "metadata": {
      "needs_background": "light"
     },
     "output_type": "display_data"
    }
   ],
   "source": [
    "plt.figure(figsize=(8,4))\n",
    "plt.subplot(1,2,1)\n",
    "plt.scatter(inputs.load, fan_speed)\n",
    "plt.title(\"Fan speed (rpm)\")\n",
    "plt.xlabel(\"Fan load\")\n",
    "\n",
    "plt.subplot(1,2,2)\n",
    "plt.scatter(inputs.load, fan_current)\n",
    "plt.title(\"Fan current (Amps)\")\n",
    "plt.xlabel(\"Fan load\")"
   ]
  },
  {
   "cell_type": "markdown",
   "id": "3344e8ed-a676-4e22-afa1-6ece8e780e64",
   "metadata": {
    "tags": []
   },
   "source": [
    "#### Model A2\n",
    "\n",
    "The simulator models the dynamics of the fan speed, given a time series of the load and the timestamps at which measurements happen.\n",
    "\n",
    "To keep it simple, let us simulate what happens when we turn the load on (`load=1`) and off (`load=0`) in a short impulse, and take measurements every 0.1 seconds."
   ]
  },
  {
   "cell_type": "code",
   "execution_count": 10,
   "id": "204b5568-2da2-443b-9599-f3adf23561d8",
   "metadata": {
    "tags": []
   },
   "outputs": [],
   "source": [
    "inputs = pd.DataFrame({'load': np.array([0] * 30 + [1] * 20 + [0] * 50), 'timestamp': np.linspace(0,10,100)})\n",
    "fan_speed = sim_a2.simulate_from_inputs(inputs)"
   ]
  },
  {
   "cell_type": "code",
   "execution_count": 11,
   "id": "3e73d304-9450-4d43-bf36-510cdb1f7043",
   "metadata": {
    "tags": []
   },
   "outputs": [
    {
     "data": {
      "image/png": "[encoded data removed]",
      "text/plain": [
       "<Figure size 432x288 with 2 Axes>"
      ]
     },
     "metadata": {
      "needs_background": "light"
     },
     "output_type": "display_data"
    }
   ],
   "source": [
    "plt.figure()\n",
    "ax1 = plt.gca()\n",
    "\n",
    "c1,c2 = 'tab:blue', 'tab:purple'\n",
    "\n",
    "ax1.set_xlabel('time (s)')\n",
    "ax1.set_ylabel('fan\\nload', color=c1, rotation=0, ha=\"right\")\n",
    "ax1.plot(inputs.timestamp, inputs.load, color=c1, linestyle='--')\n",
    "ax1.tick_params(axis='y', labelcolor=c1)\n",
    "\n",
    "ax2 = ax1.twinx()\n",
    "ax2.set_ylabel('fan\\nspeed\\n(rpm)', color=c2, rotation=0, ha=\"left\")\n",
    "ax2.plot(inputs.timestamp, fan_speed, color=c2)\n",
    "ax2.tick_params(axis='y', labelcolor=c2)"
   ]
  },
  {
   "cell_type": "markdown",
   "id": "1590a161-fa80-4f34-9523-baccc2feaea8",
   "metadata": {},
   "source": [
    "### Example 2: Comparing to real measurements"
   ]
  },
  {
   "cell_type": "markdown",
   "id": "95bbe2a0-cdb7-493f-a8a4-ed9906562852",
   "metadata": {},
   "source": [
    "We download a dataset of real measurements using the functionality provided in the `causalchamber` package. The downloaded dataset is stored in the path given by `root=` below.\n",
    "\n",
    "For our experiment we will use the `wt_test_v1` dataset, which is described [here](https://github.com/juangamella/causal-chamber/tree/main/datasets/wt_test_v1)."
   ]
  },
  {
   "cell_type": "code",
   "execution_count": 12,
   "id": "90b582c0-e3ff-4bf5-b8c1-fe5891e518db",
   "metadata": {
    "tags": []
   },
   "outputs": [
    {
     "name": "stdout",
     "output_type": "stream",
     "text": [
      "Dataset wt_test_v1 found in \"wt_test_v1\".\n"
     ]
    }
   ],
   "source": [
    "# Download the dataset\n",
    "dataset = causalchamber.datasets.Dataset('wt_test_v1', root='./', download=True)\n",
    "\n",
    "# Load the \"steps\" experiment\n",
    "experiment = dataset.get_experiment(name='steps')\n",
    "observations = experiment.as_pandas_dataframe().iloc[0:100]"
   ]
  },
  {
   "cell_type": "markdown",
   "id": "3da0d9c3-3a06-4cfd-8300-134c1224ac30",
   "metadata": {},
   "source": [
    "We will compare our simulator with the behaviour of the intake fan in the above experiment.\n",
    "\n",
    "First, let us create the inputs for all three simulator (we need `load` and `timestamp`). The simulators A1 and B1 will ignore the `timestamp` column."
   ]
  },
  {
   "cell_type": "code",
   "execution_count": 13,
   "id": "bbc67efd-e34a-49a5-9c0b-cbf8437e14b8",
   "metadata": {
    "tags": []
   },
   "outputs": [],
   "source": [
    "inputs = pd.DataFrame({'load': observations.load_in,\n",
    "                       'timestamp': observations.timestamp})\n",
    "\n",
    "output_a1 = sim_a1.simulate_from_inputs(inputs)\n",
    "output_b1 = sim_b1.simulate_from_inputs(inputs)\n",
    "output_a2 = sim_a2.simulate_from_inputs(inputs)"
   ]
  },
  {
   "cell_type": "markdown",
   "id": "0addd64b-b3be-4b57-bdb4-468b8f0bb28e",
   "metadata": {},
   "source": [
    "**Plot the results**: real vs. simulated measurements of the fan speed and current"
   ]
  },
  {
   "cell_type": "code",
   "execution_count": 14,
   "id": "f0fdbab2-fb2b-458b-91c8-06322c2c2442",
   "metadata": {
    "tags": []
   },
   "outputs": [
    {
     "data": {
      "text/plain": [
       "Text(0.5, 0, 'time (s)')"
      ]
     },
     "execution_count": 14,
     "metadata": {},
     "output_type": "execute_result"
    },
    {
     "data": {
      "image/png": "[encoded data removed]",
      "text/plain": [
       "<Figure size 1152x288 with 4 Axes>"
      ]
     },
     "metadata": {
      "needs_background": "light"
     },
     "output_type": "display_data"
    }
   ],
   "source": [
    "plt.figure(figsize=(16,4))\n",
    "\n",
    "# x-axis is elapsed time since beginning of experiment\n",
    "t = inputs.timestamp - inputs.timestamp.iloc[0]\n",
    "\n",
    "# Plot 1: load\n",
    "plt.subplot(141)\n",
    "plt.title(\"Inputs\")\n",
    "plt.plot(t, inputs.load, label=\"Load\")\n",
    "plt.legend()\n",
    "plt.xlabel(\"time (s)\")\n",
    "\n",
    "# Plot 2: Model A1 vs. fan speed\n",
    "plt.subplot(142)\n",
    "plt.title(\"Model A1\")\n",
    "plt.plot(t, output_a1, label=\"Model A1\")\n",
    "plt.plot(t, observations.rpm_in, label=\"Real fan speed\")\n",
    "plt.legend()\n",
    "plt.xlabel(\"time (s)\")\n",
    "\n",
    "# Plot 3: Model A3 vs. fan speed\n",
    "plt.subplot(143)\n",
    "plt.title(\"Model A2\")\n",
    "plt.plot(t, output_a2, label=\"Model A2\")\n",
    "plt.plot(t, observations.rpm_in, label=\"Real fan speed\")\n",
    "plt.legend()\n",
    "plt.xlabel(\"time (s)\")\n",
    "\n",
    "# Plot 4: Model B1 vs. fan current\n",
    "plt.subplot(144)\n",
    "# See Table I in Appendix II of [1] to see how the current in Amps is calculated\n",
    "current_amps = observations.current_in / 1023 * 2.5 * 1.16 / 5 \n",
    "plt.title(\"Model B1\")\n",
    "plt.plot(t, output_b1, label=\"Model B1\")\n",
    "plt.plot(t, current_amps, label=\"Real fan current\")\n",
    "plt.legend()\n",
    "plt.xlabel(\"time (s)\")"
   ]
  },
  {
   "cell_type": "code",
   "execution_count": null,
   "id": "2ec44b81-3fab-4dc3-a2a1-263c37d47ef2",
   "metadata": {},
   "outputs": [],
   "source": []
  }
 ],
 "metadata": {
  "kernelspec": {
   "display_name": "notebooks",
   "language": "python",
   "name": "notebooks"
  },
  "language_info": {
   "codemirror_mode": {
    "name": "ipython",
    "version": 3
   },
   "file_extension": ".py",
   "mimetype": "text/x-python",
   "name": "python",
   "nbconvert_exporter": "python",
   "pygments_lexer": "ipython3",
   "version": "3.7.3"
  }
 },
 "nbformat": 4,
 "nbformat_minor": 5
}
