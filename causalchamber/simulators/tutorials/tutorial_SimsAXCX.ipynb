{
 "cells": [
  {
   "cell_type": "markdown",
   "id": "9468933f-532c-4b8b-bdc8-423bdcae400c",
   "metadata": {
    "tags": []
   },
   "source": [
    "# **Tutorial**: Using the simulators `wt.SimA1C2`, `wt.SimA1C3` and `wt.SimA2C3`\n",
    "\n",
    "[<<< Back to the simulator index](https://github.com/juangamella/causal-chamber-package/tree/main/causalchamber/simulators)\n",
    "\n",
    "Other links:\n",
    "- [Derivation of the simulators](https://arxiv.org/pdf/2404.11341#page=28&zoom=100,57,332)\n",
    "- [Simulators source code](https://github.com/juangamella/causal-chamber-package/blob/main/causalchamber/simulators/wt/main.py)\n",
    "\n",
    "If you use the simulators in your work, please consider citing:\n",
    "\n",
    "```\n",
    "﻿@article{gamella2025chamber,\n",
    "  author={Gamella, Juan L. and Peters, Jonas and B{\\\"u}hlmann, Peter},\n",
    "  title={Causal chambers as a real-world physical testbed for {AI} methodology},\n",
    "  journal={Nature Machine Intelligence},\n",
    "  doi={10.1038/s42256-024-00964-x},\n",
    "  year={2025},\n",
    "}\n",
    "```"
   ]
  },
  {
   "cell_type": "code",
   "execution_count": 1,
   "id": "fa6cec5f-4eb1-49c4-927e-065b48c13d14",
   "metadata": {
    "tags": []
   },
   "outputs": [],
   "source": [
    "import sys\n",
    "sys.path = ['../../..'] + sys.path\n",
    "\n",
    "%load_ext autoreload\n",
    "%autoreload 2"
   ]
  },
  {
   "cell_type": "code",
   "execution_count": 2,
   "id": "6e0039b0-88f0-46e4-95b9-f65b696281e2",
   "metadata": {
    "tags": []
   },
   "outputs": [],
   "source": [
    "# IBM colorblind palette\n",
    "palette = [\"#648fff\", \"#785ef0\", \"#dc267f\", \"#fe6100\", \"#ffb000\", \"#000000\", \"#ffffff\"]"
   ]
  },
  {
   "cell_type": "markdown",
   "id": "9db1df93-5a9c-4ce0-ae2f-4efe4c1c4235",
   "metadata": {},
   "source": [
    "## Dependencies"
   ]
  },
  {
   "cell_type": "markdown",
   "id": "616fceec-7eba-4728-b44d-891e2695599a",
   "metadata": {},
   "source": [
    "Besides the `causalchamber` package, the notebook also uses `matplotlib`, `numpy` and `pandas` (specified in `tutorials/requirements.txt`)."
   ]
  },
  {
   "cell_type": "code",
   "execution_count": 3,
   "id": "b89be10e-cfce-4227-8b8c-a8291c403e32",
   "metadata": {
    "tags": []
   },
   "outputs": [
    {
     "name": "stdout",
     "output_type": "stream",
     "text": [
      "\n",
      "Fetching list of available datasets from https://causalchamber.s3.eu-central-1.amazonaws.com/downloadables/directory.yaml ... done.\n",
      "If you use our datasets or simulators for your work please consider citing:\n",
      "\n",
      "﻿@article{gamella2025chamber,\n",
      "  author={Gamella, Juan L. and Peters, Jonas and B{\"u}hlmann, Peter},\n",
      "  title={Causal chambers as a real-world physical testbed for {AI} methodology},\n",
      "  journal={Nature Machine Intelligence},\n",
      "  doi={10.1038/s42256-024-00964-x},\n",
      "  year={2025},\n",
      "}\n",
      "\n"
     ]
    }
   ],
   "source": [
    "import causalchamber\n",
    "import matplotlib.pyplot as plt\n",
    "import numpy as np\n",
    "import pandas as pd\n",
    "\n",
    "from matplotlib import gridspec"
   ]
  },
  {
   "cell_type": "markdown",
   "id": "069ba667-1ab3-455a-bc36-fe49081397d6",
   "metadata": {
    "tags": []
   },
   "source": [
    "## Initializing the simulators\n",
    "\n",
    "We take the simulator parameters from calibration experiments and the technical specifications of the fans. See [this](https://github.com/juangamella/causal-chamber-paper/blob/main/case_studies/mechanistic_models.ipynb) notebook for the complete process."
   ]
  },
  {
   "cell_type": "code",
   "execution_count": 1,
   "id": "5a41571e-77de-41d8-9880-5689361a1d7b",
   "metadata": {
    "tags": []
   },
   "outputs": [],
   "source": [
    "# For model A1\n",
    "C_MIN = 0.166\n",
    "C_MAX = 0.27\n",
    "L_MIN = 0.1\n",
    "OMEGA_MAX = 3000\n",
    "\n",
    "# For model A2\n",
    "I = 3.481e-05\n",
    "T = 0.05\n",
    "K = 5.268701549401565e-08 # This is called \"C\" in the notebook linked above\n",
    "\n",
    "#   Torque function (also a parameter for model A2)\n",
    "def tau(L, C_min=C_MIN, C_max=C_MAX, L_min=L_MIN, T=T):\n",
    "    L = np.atleast_1d(L)\n",
    "    torques = T * (C_min + np.maximum(L_min, L) ** 3 * (C_max - C_min) - C_min)\n",
    "    torques[L == 0] = 0\n",
    "    return torques if len(L) > 1 else torques[0]\n",
    "\n",
    "# For models C2 and C3\n",
    "Q_MAX = 186.7 / 3600  # m3 / s\n",
    "S_MAX = 74.82473949999999 # pascals\n",
    "BETA = 0.15\n",
    "R = 0.75\n",
    "R_0 = 0.75\n",
    "\n",
    "BAROMETER_ERROR = 0\n",
    "BAROMETER_PRECISION = 0.2"
   ]
  },
  {
   "cell_type": "markdown",
   "id": "d1ce72f0-53a6-4fe5-9c90-86fbc0d4cf3a",
   "metadata": {
    "tags": []
   },
   "source": [
    "Now we initialize the simulators with the above parameters:"
   ]
  },
  {
   "cell_type": "code",
   "execution_count": 5,
   "id": "f33a86be-9cd1-4b2f-befd-1afdccb007db",
   "metadata": {
    "tags": []
   },
   "outputs": [],
   "source": [
    "import causalchamber.simulators.wt as wt\n",
    "\n",
    "sim_a1c2 = wt.SimA1C2(\n",
    "    # Parameters for model A1\n",
    "    L_min=L_MIN,\n",
    "    omega_max=OMEGA_MAX,\n",
    "    # Parameters for model C2\n",
    "    S_max=S_MAX,\n",
    "    Q_max=Q_MAX,\n",
    "    r=R,\n",
    "    # Sensor noise\n",
    "    barometer_error=BAROMETER_ERROR,  # The barometer offset\n",
    "    barometer_precision=BAROMETER_PRECISION,  # The std. of the barometer sensor noise\n",
    "    random_state=1,\n",
    ")\n",
    "\n",
    "sim_a1c3 = wt.SimA1C3(\n",
    "    # Parameters for model A1\n",
    "    L_min=L_MIN,\n",
    "    omega_max=OMEGA_MAX,\n",
    "    # Parameters for model C3\n",
    "    S_max=S_MAX,\n",
    "    Q_max=Q_MAX,\n",
    "    r_0=R_0,\n",
    "    beta=BETA,\n",
    "    # Sensor noise\n",
    "    barometer_error=BAROMETER_ERROR,  # The barometer offset\n",
    "    barometer_precision=BAROMETER_PRECISION,  # The std. of the barometer sensor noise\n",
    "    random_state=2,\n",
    ")\n",
    "\n",
    "sim_a2c3 = wt.SimA2C3(\n",
    "    # Parameters for model A1    \n",
    "    omega_max=OMEGA_MAX,\n",
    "    I = I,\n",
    "    tau = tau,\n",
    "    K = K,\n",
    "    omega_in_0 = L_MIN * OMEGA_MAX,\n",
    "    omega_out_0 = L_MIN * OMEGA_MAX,\n",
    "    # Parameters for model C3\n",
    "    S_max=S_MAX,\n",
    "    Q_max=Q_MAX,\n",
    "    r_0=R_0,\n",
    "    beta=BETA,\n",
    "    # Sensor noise\n",
    "    barometer_error=BAROMETER_ERROR,  # The barometer offset\n",
    "    barometer_precision=BAROMETER_PRECISION,  # The std. of the barometer sensor noise\n",
    "    random_state=3,\n",
    ")"
   ]
  },
  {
   "cell_type": "markdown",
   "id": "366121b6-129b-4fc3-9df2-26c136978b2f",
   "metadata": {},
   "source": [
    "## Running the simulators"
   ]
  },
  {
   "cell_type": "markdown",
   "id": "8ddc16da-768b-45c5-a5cd-2084b403fc66",
   "metadata": {},
   "source": [
    "To simulate, call the function `.simulate_from_inputs` with a dataframe containing the simulator inputs as columns. There can be additional columns, which the simulator will ignore.\n",
    "\n",
    "The names of the necessary columns can be obtained by calling:"
   ]
  },
  {
   "cell_type": "code",
   "execution_count": 6,
   "id": "1145c0be-4adc-41a6-a7d3-9be8e64bbe12",
   "metadata": {
    "tags": []
   },
   "outputs": [
    {
     "data": {
      "text/plain": [
       "['load_in', 'load_out', 'pressure_ambient']"
      ]
     },
     "execution_count": 6,
     "metadata": {},
     "output_type": "execute_result"
    }
   ],
   "source": [
    "sim_a1c2.inputs_names"
   ]
  },
  {
   "cell_type": "code",
   "execution_count": 7,
   "id": "887c3d92-26a9-4e93-8beb-f9e951bec7d7",
   "metadata": {
    "tags": []
   },
   "outputs": [
    {
     "data": {
      "text/plain": [
       "['load_in', 'load_out', 'hatch', 'pressure_ambient']"
      ]
     },
     "execution_count": 7,
     "metadata": {},
     "output_type": "execute_result"
    }
   ],
   "source": [
    "sim_a1c3.inputs_names"
   ]
  },
  {
   "cell_type": "markdown",
   "id": "857aa81e-4599-4b9a-a3c7-c2b5cc9b7239",
   "metadata": {
    "tags": []
   },
   "source": [
    "### Example 1: Simulating from user-defined inputs\n",
    "\n",
    "The simulators models the dynamics of the wind-tunnel pressure, given\n",
    "- (all simulators) a time series of the fan loads (`load_in`, `load_out`) and the ambient pressure (`pressure_ambient`)\n",
    "- (SimA1C3 and SimA2C3) hatch positions (`hatch`)\n",
    "- timestamps at which the measurements happen (`timestamp`)\n",
    "\n",
    "\n",
    "We will simulate what happens when we turn the intake load on (`load_in=1`) and off (`load_in=0`) in a short impulse, while keeping the exhaust load (`load_out`) constant and opening the hatch half-way through the impulse."
   ]
  },
  {
   "cell_type": "code",
   "execution_count": 8,
   "id": "204b5568-2da2-443b-9599-f3adf23561d8",
   "metadata": {
    "tags": []
   },
   "outputs": [],
   "source": [
    "inputs = pd.DataFrame({'load_in': np.array([0] * 30 + [1] * 40 + [0] * 30),                       \n",
    "                       'load_out': [0.1] * 100,\n",
    "                       'timestamp': np.linspace(0,10,100),\n",
    "                       'hatch': np.array([0] * 50 + [45] * 50),\n",
    "                       'pressure_ambient': 0})\n",
    "outputs_a1c2 = sim_a1c2.simulate_from_inputs(inputs)\n",
    "outputs_a1c3 = sim_a1c3.simulate_from_inputs(inputs)\n",
    "outputs_a2c3 = sim_a2c3.simulate_from_inputs(inputs)"
   ]
  },
  {
   "cell_type": "code",
   "execution_count": 9,
   "id": "c02c8ae7-2fde-4453-8d72-d503bb6a1915",
   "metadata": {
    "tags": []
   },
   "outputs": [
    {
     "data": {
      "text/plain": [
       "<matplotlib.legend.Legend at 0x7f9eaae8ff28>"
      ]
     },
     "execution_count": 9,
     "metadata": {},
     "output_type": "execute_result"
    },
    {
     "data": {
      "image/png": "[encoded data removed]",
      "text/plain": [
       "<Figure size 432x288 with 2 Axes>"
      ]
     },
     "metadata": {
      "needs_background": "light"
     },
     "output_type": "display_data"
    }
   ],
   "source": [
    "plt.subplot(211)\n",
    "plt.plot(inputs.timestamp, outputs_a1c2[0], label=\"SimA1C2\")\n",
    "plt.plot(inputs.timestamp, outputs_a1c3[0], label=\"SimA1C3\")\n",
    "plt.plot(inputs.timestamp, outputs_a2c3[0], label=\"SimA2C3\")\n",
    "plt.legend()\n",
    "plt.xlabel(\"Time (s)\")\n",
    "\n",
    "plt.subplot(212)\n",
    "plt.plot(inputs.timestamp, inputs.load_in, label=\"load_in\")\n",
    "plt.plot(inputs.timestamp, inputs.load_out, label=\"load_out\")\n",
    "plt.plot(inputs.timestamp, inputs.hatch / 45, label=\"hatch / 45\")\n",
    "plt.legend()"
   ]
  },
  {
   "cell_type": "markdown",
   "id": "1590a161-fa80-4f34-9523-baccc2feaea8",
   "metadata": {},
   "source": [
    "### Example 2: Comparing to real measurements"
   ]
  },
  {
   "cell_type": "markdown",
   "id": "95bbe2a0-cdb7-493f-a8a4-ed9906562852",
   "metadata": {},
   "source": [
    "We download a dataset of real measurements using the functionality provided in the `causalchamber` package. The downloaded dataset is stored in the path given by `root=` below.\n",
    "\n",
    "For our experiment we will use the `wt_test_v1` dataset, which is described [here](https://github.com/juangamella/causal-chamber/tree/main/datasets/wt_test_v1)."
   ]
  },
  {
   "cell_type": "code",
   "execution_count": 10,
   "id": "90b582c0-e3ff-4bf5-b8c1-fe5891e518db",
   "metadata": {
    "tags": []
   },
   "outputs": [
    {
     "name": "stdout",
     "output_type": "stream",
     "text": [
      "Dataset wt_test_v1 found in \"wt_test_v1\".\n"
     ]
    }
   ],
   "source": [
    "# Download the dataset\n",
    "dataset = causalchamber.datasets.Dataset('wt_test_v1', root='./', download=True)\n",
    "\n",
    "# Load the \"steps\" experiment\n",
    "experiment = dataset.get_experiment(name='steps')\n",
    "observations = experiment.as_pandas_dataframe().iloc[0:200]"
   ]
  },
  {
   "cell_type": "markdown",
   "id": "3da0d9c3-3a06-4cfd-8300-134c1224ac30",
   "metadata": {},
   "source": [
    "We will compare our simulator with the behaviour of the intake fan in the above experiment.\n",
    "\n",
    "First, let us create the inputs for all three simulators."
   ]
  },
  {
   "cell_type": "code",
   "execution_count": 11,
   "id": "bbc67efd-e34a-49a5-9c0b-cbf8437e14b8",
   "metadata": {
    "tags": []
   },
   "outputs": [],
   "source": [
    "inputs = observations[['load_in', 'load_out', 'hatch', 'timestamp', 'pressure_ambient']]\n",
    "\n",
    "outputs_a1c2 = sim_a1c2.simulate_from_inputs(inputs)\n",
    "outputs_a1c3 = sim_a1c3.simulate_from_inputs(inputs)\n",
    "outputs_a2c3 = sim_a2c3.simulate_from_inputs(inputs)"
   ]
  },
  {
   "cell_type": "markdown",
   "id": "0addd64b-b3be-4b57-bdb4-468b8f0bb28e",
   "metadata": {},
   "source": [
    "**Plot the results**: real vs. simulated measurements of the fan speeds and downwind pressure measurement"
   ]
  },
  {
   "cell_type": "code",
   "execution_count": 12,
   "id": "4d028576-cb1e-448a-847b-bb99ff30f704",
   "metadata": {
    "tags": []
   },
   "outputs": [
    {
     "data": {
      "text/plain": [
       "[<matplotlib.lines.Line2D at 0x7f9eaac1f908>]"
      ]
     },
     "execution_count": 12,
     "metadata": {},
     "output_type": "execute_result"
    },
    {
     "data": {
      "image/png": "[encoded data removed]",
      "text/plain": [
       "<Figure size 576x720 with 4 Axes>"
      ]
     },
     "metadata": {
      "needs_background": "light"
     },
     "output_type": "display_data"
    }
   ],
   "source": [
    "plt.figure(figsize=(8,10))\n",
    "t = observations.timestamp - observations.timestamp.iloc[0]\n",
    "\n",
    "# Plot inputs (loads and hatch)\n",
    "plt.subplot(411)\n",
    "plt.plot(t, inputs.load_in, color=palette[0], label=\"load_in\")\n",
    "plt.plot(t, inputs.hatch / 45, color=palette[4], label=\"hatch / 45 - 1\")\n",
    "plt.plot(t, inputs.load_out, color=palette[2], label=\"load_out - 2\")\n",
    "plt.ylabel(\"inputs\", rotation=0, ha=\"right\")\n",
    "plt.legend()\n",
    "\n",
    "# Plot simulated rpm_in\n",
    "plt.subplot(412)\n",
    "plt.ylabel(\"rpm_in\", rotation=0, ha=\"right\")\n",
    "plt.plot(t, observations.rpm_in, color='black', label=\"Real measurement\", linewidth=2)\n",
    "plt.plot(t, outputs_a1c2[1], color=palette[2], label=\"SimA1C2\")\n",
    "plt.plot(t, outputs_a1c3[1], color=palette[3], label=\"SimA1C3\")\n",
    "plt.plot(t, outputs_a2c3[1], color=palette[4], label=\"SimA2C3\")\n",
    "\n",
    "# Plot simulated rpm_out\n",
    "plt.subplot(413)\n",
    "plt.ylabel(\"rpm_out\", rotation=0, ha=\"right\")\n",
    "plt.plot(t, observations.rpm_out, color='black', label=\"Real measurement\", linewidth=2)\n",
    "plt.plot(t, outputs_a1c2[2], color=palette[2], label=\"SimA1C2\")\n",
    "plt.plot(t, outputs_a1c3[2], color=palette[3], label=\"SimA1C3\")\n",
    "plt.plot(t, outputs_a2c3[2], color=palette[4], label=\"SimA2C3\")\n",
    "plt.legend(ncol=2, loc=\"upper left\")\n",
    "\n",
    "# Plot simulated pressure_downwind\n",
    "plt.subplot(414)\n",
    "plt.ylabel(\"pressure_downwind\", rotation=0, ha=\"right\")\n",
    "plt.plot(t, observations.pressure_downwind, color='black', label=\"Real measurement\", linewidth=2)\n",
    "plt.plot(t, outputs_a1c2[0], color=palette[2], label=\"SimA1C2\")\n",
    "plt.plot(t, outputs_a1c3[0], color=palette[3], label=\"SimA1C3\")\n",
    "plt.plot(t, outputs_a2c3[0], color=palette[4], label=\"SimA2C3\")"
   ]
  },
  {
   "cell_type": "markdown",
   "id": "4e76fe9e-333c-4b68-8fe3-dce57e858dde",
   "metadata": {},
   "source": [
    "Above we plot the output of the simulators (fan speeds + downwind pressure measurement) vs. the real measurements, in black, collected from the wind tunnel.\n",
    "\n",
    "Because the fans are modelled as independent, the simulators do not capture the coupling between their speeds, e.g., in the third panel (rpm_out)."
   ]
  },
  {
   "cell_type": "code",
   "execution_count": null,
   "id": "f3b280a2-5230-49cd-8a63-a00a3ee54a54",
   "metadata": {},
   "outputs": [],
   "source": []
  }
 ],
 "metadata": {
  "kernelspec": {
   "display_name": "notebooks",
   "language": "python",
   "name": "notebooks"
  },
  "language_info": {
   "codemirror_mode": {
    "name": "ipython",
    "version": 3
   },
   "file_extension": ".py",
   "mimetype": "text/x-python",
   "name": "python",
   "nbconvert_exporter": "python",
   "pygments_lexer": "ipython3",
   "version": "3.7.3"
  }
 },
 "nbformat": 4,
 "nbformat_minor": 5
}
